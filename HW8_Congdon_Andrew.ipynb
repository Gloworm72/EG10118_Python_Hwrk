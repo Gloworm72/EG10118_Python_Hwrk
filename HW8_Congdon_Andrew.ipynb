{
  "nbformat": 4,
  "nbformat_minor": 0,
  "metadata": {
    "colab": {
      "provenance": []
    },
    "kernelspec": {
      "name": "python3",
      "display_name": "Python 3"
    },
    "language_info": {
      "name": "python"
    }
  },
  "cells": [
    {
      "cell_type": "markdown",
      "source": [
        "HW #8<p>Andrew Congdon<p>4/15/2023"
      ],
      "metadata": {
        "id": "tVnJiylodXKN"
      }
    },
    {
      "cell_type": "markdown",
      "source": [
        "Problem 1:<p>This program creates a \"Mad Libs\" story by asking the user to input multiple different words (superlative adjective, plural noun, etc.)."
      ],
      "metadata": {
        "id": "AYbnrAOwemmP"
      }
    },
    {
      "cell_type": "code",
      "execution_count": 1,
      "metadata": {
        "id": "TmC62IAPbktj",
        "colab": {
          "base_uri": "https://localhost:8080/"
        },
        "outputId": "ebd86414-559f-4dae-b8f7-35e620ee8cc6"
      },
      "outputs": [
        {
          "output_type": "stream",
          "name": "stdout",
          "text": [
            "Welcome to the engineering Mad Libs story!\n",
            " \n",
            "Please input a superlative adjective: b\n",
            "Please input a plural noun: b\n",
            "Please input any random noun: b\n",
            "Please input an adjective: b\n",
            "Please input an EG10118 instructors name: b\n",
            " \n",
            "Heres your story!\n",
            " \n",
            "The engineering computing course is designed to be the b course you ever take.\n",
            "You will learn so manyvb, including basic concepts like b.\n",
            "With the tools that you learn, no problem will be too b for you to figure out.\n",
            "By the end of the semester, you might even be better than b at coding!\n"
          ]
        }
      ],
      "source": [
        "# Let user know what game they are playing in the first place\n",
        "print('Welcome to the engineering Mad Libs story!')\n",
        "\n",
        "# Space for clarity\n",
        "print(' ')\n",
        "\n",
        "# Ask user to input a superlative adjective\n",
        "supAdj = input('Please input a superlative adjective: ')\n",
        "# Ask user to input a plural noun\n",
        "pNoun = input('Please input a plural noun: ')\n",
        "# Ask user to input any random noun\n",
        "rNoun = input('Please input any random noun: ')\n",
        "# Ask user to input an adjective\n",
        "adj = input('Please input an adjective: ')\n",
        "# Ask user to input an EG10118 instructor's name\n",
        "egInst = input('Please input an EG10118 instructor''s name: ')\n",
        "\n",
        "# Space for clarity\n",
        "print(' ')\n",
        "\n",
        "# Let user know their story will now be displayed\n",
        "print('Here''s your story!')\n",
        "\n",
        "# Spece for clarity\n",
        "print(' ')\n",
        "\n",
        "# Create 4 different print statements using the inputed words\n",
        "print('The engineering computing course is designed to be the',supAdj,'course you ever take.')\n",
        "print('You will learn so many ' + pNoun + ', including basic concepts like ' + rNoun + '.')\n",
        "print('With the tools that you learn, no problem will be too ' + adj + ' for you to figure out.')\n",
        "print('By the end of the semester, you might even be better than',egInst,'at coding!')"
      ]
    },
    {
      "cell_type": "markdown",
      "source": [
        "Problem 2:<p>This program allows the user to input the name of an animal, an intital population, a growth rate, and a time. Then, the program computes the final population of that animal using the model for exponential growth and also displays the results to the user."
      ],
      "metadata": {
        "id": "Atag7lPBjjjc"
      }
    },
    {
      "cell_type": "code",
      "source": [
        "# import math library\n",
        "import math\n",
        "\n",
        "# Ask user to input animal name\n",
        "animal = input('Enter the name of the animal: ')\n",
        "# Ask user to input initial population\n",
        "P_0 = float(input('Enter the initial population (P_0): '))\n",
        "# Ask user to input growth rate\n",
        "r = float(input('Enter the growth rate: '))\n",
        "# Ask user to input time\n",
        "t = float(input('Enter the time: '))\n",
        "\n",
        "# Space for clarity\n",
        "print(' ')\n",
        "\n",
        "# Perform calculations\n",
        "P_f = (P_0)*(math.exp(r*t))\n",
        "\n",
        "# Display final population to the user\n",
        "print('Final Population of',animal,'-',math.floor(P_f)) # Rounded down because impossible to have a fraction of an individual"
      ],
      "metadata": {
        "id": "v6pNdjVekEbU",
        "colab": {
          "base_uri": "https://localhost:8080/"
        },
        "outputId": "65099dec-0a1f-443d-e89f-4c944eecede3"
      },
      "execution_count": 2,
      "outputs": [
        {
          "output_type": "stream",
          "name": "stdout",
          "text": [
            "Enter the name of the animal: elephant\n",
            "Enter the initial population (P_0): 20\n",
            "Enter the growth rate: 0.5\n",
            "Enter the time: 20\n",
            " \n",
            "Final Population of elephant - 440529\n"
          ]
        }
      ]
    },
    {
      "cell_type": "markdown",
      "source": [
        "Problem 3:<p>This program asks the user to input an element number they would like (n), initializes the Fibonacci sequence, calculates the ith number of the Fibonacci sequence useing a for loop, and displays the results to the user."
      ],
      "metadata": {
        "id": "EhbBbHD4nxMJ"
      }
    },
    {
      "cell_type": "code",
      "source": [
        "# Ask user to input the element number they would like (n)\n",
        "n = int(input('Please enter an element number (n): ')) # Needs to be int if used for to be used as address for list\n",
        "\n",
        "# Space for clarity\n",
        "print(' ')\n",
        "\n",
        "# Initialize the Fibonacci sequence as a list containing [0,1]\n",
        "F = [0,1]\n",
        "\n",
        "# Create for loop to find the final number of the Fibonacci sequence\n",
        "for i in range(2,n):\n",
        "    F.append(F[i-1]+F[i-2])\n",
        "\n",
        "# Display the final value of the sequence to the user\n",
        "print('Index',n,'of the Fibonacci sequence is',F[n-1],'.')"
      ],
      "metadata": {
        "colab": {
          "base_uri": "https://localhost:8080/"
        },
        "id": "t0qkCZd7oX3H",
        "outputId": "b43c499b-228e-4aaf-8a9e-1ade18264527"
      },
      "execution_count": 3,
      "outputs": [
        {
          "output_type": "stream",
          "name": "stdout",
          "text": [
            "Please enter an element number (n): 9\n",
            " \n",
            "Index 9 of the Fibonacci sequence is 21 .\n"
          ]
        }
      ]
    },
    {
      "cell_type": "markdown",
      "source": [
        "Problem 4:<p>This program utilizes a while loop and if statements to create a game in which the user gets to roll two dice with different combinations of numbers resulting in different outcomes."
      ],
      "metadata": {
        "id": "-NQFOQyiyhwI"
      }
    },
    {
      "cell_type": "code",
      "source": [
        "# import library for creating random numbers\n",
        "import random\n",
        "\n",
        "# Initialize die 1\n",
        "dice1 = 0;\n",
        "# Initialize die 2\n",
        "dice2 = 0;\n",
        "\n",
        "# Create a while loop that lasts as long as dice 1 and dice 2 are not snake eyes\n",
        "while (dice1 != 1 or dice2 != 1):\n",
        "    input('Roll the Dice!')\n",
        "    dice1 = random.randint(1,6)\n",
        "    dice2 = random.randint(1,6)\n",
        "    print('Dice 1:',dice1)\n",
        "    print('Dice 2:',dice2)\n",
        "    sumDice = dice1 + dice2\n",
        "    if sumDice == 7:\n",
        "        print('You rolled lucky number 7!!')\n",
        "print('Snake Eyes!!!')\n",
        "\n",
        "# Space for clarity\n",
        "print(' ')\n",
        "\n",
        "# Notify user that the game is over\n",
        "print('The game is over. Thanks for playing!')\n",
        "    \n"
      ],
      "metadata": {
        "id": "6cgAm2QEyatp"
      },
      "execution_count": null,
      "outputs": []
    },
    {
      "cell_type": "markdown",
      "source": [
        "Problem 5:<p>This program using lists and conditionals to create the game Battleship, which allows users to input coordinates for a 10x10 grid to either \"hit\" or \"miss\" a ship."
      ],
      "metadata": {
        "id": "syCBLnhHoaNi"
      }
    },
    {
      "cell_type": "code",
      "source": [
        "# Create the battleship grid using a 2D list of coordinates\n",
        "\n",
        "# Size of grid dimensions\n",
        "gridSize = 10\n",
        "# Create the grid\n",
        "grid = [[0 for i in range(gridSize)] for j in range(gridSize)]\n",
        "\n",
        "# Assign values of 1 for the location of the 3-block-long ship\n",
        "grid[7][2] = 1\n",
        "grid[7][3] = 1\n",
        "grid[7][4] = 1\n",
        "\n",
        "# Assign values of 1 for the location of the two 4-block-long ships\n",
        "grid[1][1] = 1\n",
        "grid[2][1] = 1\n",
        "grid[3][1] = 1\n",
        "grid[4][1] = 1\n",
        "grid[1][5] = 1\n",
        "grid[1][6] = 1\n",
        "grid[1][7] = 1\n",
        "grid[1][8] = 1\n",
        "\n",
        "# Assign values of 1 for the location of the 5-block-long ship\n",
        "grid[4][7] = 1\n",
        "grid[5][7] = 1\n",
        "grid[6][7] = 1\n",
        "grid[7][7] = 1\n",
        "grid[8][7] = 1\n",
        "\n",
        "# Initialize row and column to be greater than 9\n",
        "row = 10\n",
        "col = 10\n",
        "# Ask user to input row and col value, if it is not within acceptable range, asks again\n",
        "while row > 9 or row < 0:\n",
        "    row = int(input('Please input a row number (between 0 and 9): '))\n",
        "while col > 9 or col < 0:\n",
        "    col = int(input('Please input a col number (between 0 and 9): '))\n",
        "if grid[row][col] == 1:\n",
        "    print('Hit!')\n",
        "else:\n",
        "    print('Miss...')"
      ],
      "metadata": {
        "id": "1opFFsAHpGLD",
        "colab": {
          "base_uri": "https://localhost:8080/",
          "height": 389
        },
        "outputId": "5e1af271-46f1-4405-a722-9eef33dc5105"
      },
      "execution_count": 7,
      "outputs": [
        {
          "output_type": "error",
          "ename": "KeyboardInterrupt",
          "evalue": "ignored",
          "traceback": [
            "\u001b[0;31m---------------------------------------------------------------------------\u001b[0m",
            "\u001b[0;31mKeyboardInterrupt\u001b[0m                         Traceback (most recent call last)",
            "\u001b[0;32m<ipython-input-7-7318fa4bd4a3>\u001b[0m in \u001b[0;36m<cell line: 34>\u001b[0;34m()\u001b[0m\n\u001b[1;32m     33\u001b[0m \u001b[0;31m# Ask user to input row and col value, if it is not within acceptable range, asks again\u001b[0m\u001b[0;34m\u001b[0m\u001b[0;34m\u001b[0m\u001b[0m\n\u001b[1;32m     34\u001b[0m \u001b[0;32mwhile\u001b[0m \u001b[0mrow\u001b[0m \u001b[0;34m>\u001b[0m \u001b[0;36m9\u001b[0m \u001b[0;32mor\u001b[0m \u001b[0mrow\u001b[0m \u001b[0;34m<\u001b[0m \u001b[0;36m0\u001b[0m\u001b[0;34m:\u001b[0m\u001b[0;34m\u001b[0m\u001b[0;34m\u001b[0m\u001b[0m\n\u001b[0;32m---> 35\u001b[0;31m     \u001b[0mrow\u001b[0m \u001b[0;34m=\u001b[0m \u001b[0mint\u001b[0m\u001b[0;34m(\u001b[0m\u001b[0minput\u001b[0m\u001b[0;34m(\u001b[0m\u001b[0;34m'Please input a row number (between 0 and 9): '\u001b[0m\u001b[0;34m)\u001b[0m\u001b[0;34m)\u001b[0m\u001b[0;34m\u001b[0m\u001b[0;34m\u001b[0m\u001b[0m\n\u001b[0m\u001b[1;32m     36\u001b[0m \u001b[0;32mwhile\u001b[0m \u001b[0mcol\u001b[0m \u001b[0;34m>\u001b[0m \u001b[0;36m9\u001b[0m \u001b[0;32mor\u001b[0m \u001b[0mcol\u001b[0m \u001b[0;34m<\u001b[0m \u001b[0;36m0\u001b[0m\u001b[0;34m:\u001b[0m\u001b[0;34m\u001b[0m\u001b[0;34m\u001b[0m\u001b[0m\n\u001b[1;32m     37\u001b[0m     \u001b[0mcol\u001b[0m \u001b[0;34m=\u001b[0m \u001b[0mint\u001b[0m\u001b[0;34m(\u001b[0m\u001b[0minput\u001b[0m\u001b[0;34m(\u001b[0m\u001b[0;34m'Please input a col number (between 0 and 9): '\u001b[0m\u001b[0;34m)\u001b[0m\u001b[0;34m)\u001b[0m\u001b[0;34m\u001b[0m\u001b[0;34m\u001b[0m\u001b[0m\n",
            "\u001b[0;32m/usr/local/lib/python3.9/dist-packages/ipykernel/kernelbase.py\u001b[0m in \u001b[0;36mraw_input\u001b[0;34m(self, prompt)\u001b[0m\n\u001b[1;32m    849\u001b[0m                 \u001b[0;34m\"raw_input was called, but this frontend does not support input requests.\"\u001b[0m\u001b[0;34m\u001b[0m\u001b[0;34m\u001b[0m\u001b[0m\n\u001b[1;32m    850\u001b[0m             )\n\u001b[0;32m--> 851\u001b[0;31m         return self._input_request(str(prompt),\n\u001b[0m\u001b[1;32m    852\u001b[0m             \u001b[0mself\u001b[0m\u001b[0;34m.\u001b[0m\u001b[0m_parent_ident\u001b[0m\u001b[0;34m,\u001b[0m\u001b[0;34m\u001b[0m\u001b[0;34m\u001b[0m\u001b[0m\n\u001b[1;32m    853\u001b[0m             \u001b[0mself\u001b[0m\u001b[0;34m.\u001b[0m\u001b[0m_parent_header\u001b[0m\u001b[0;34m,\u001b[0m\u001b[0;34m\u001b[0m\u001b[0;34m\u001b[0m\u001b[0m\n",
            "\u001b[0;32m/usr/local/lib/python3.9/dist-packages/ipykernel/kernelbase.py\u001b[0m in \u001b[0;36m_input_request\u001b[0;34m(self, prompt, ident, parent, password)\u001b[0m\n\u001b[1;32m    893\u001b[0m             \u001b[0;32mexcept\u001b[0m \u001b[0mKeyboardInterrupt\u001b[0m\u001b[0;34m:\u001b[0m\u001b[0;34m\u001b[0m\u001b[0;34m\u001b[0m\u001b[0m\n\u001b[1;32m    894\u001b[0m                 \u001b[0;31m# re-raise KeyboardInterrupt, to truncate traceback\u001b[0m\u001b[0;34m\u001b[0m\u001b[0;34m\u001b[0m\u001b[0m\n\u001b[0;32m--> 895\u001b[0;31m                 \u001b[0;32mraise\u001b[0m \u001b[0mKeyboardInterrupt\u001b[0m\u001b[0;34m(\u001b[0m\u001b[0;34m\"Interrupted by user\"\u001b[0m\u001b[0;34m)\u001b[0m \u001b[0;32mfrom\u001b[0m \u001b[0;32mNone\u001b[0m\u001b[0;34m\u001b[0m\u001b[0;34m\u001b[0m\u001b[0m\n\u001b[0m\u001b[1;32m    896\u001b[0m             \u001b[0;32mexcept\u001b[0m \u001b[0mException\u001b[0m \u001b[0;32mas\u001b[0m \u001b[0me\u001b[0m\u001b[0;34m:\u001b[0m\u001b[0;34m\u001b[0m\u001b[0;34m\u001b[0m\u001b[0m\n\u001b[1;32m    897\u001b[0m                 \u001b[0mself\u001b[0m\u001b[0;34m.\u001b[0m\u001b[0mlog\u001b[0m\u001b[0;34m.\u001b[0m\u001b[0mwarning\u001b[0m\u001b[0;34m(\u001b[0m\u001b[0;34m\"Invalid Message:\"\u001b[0m\u001b[0;34m,\u001b[0m \u001b[0mexc_info\u001b[0m\u001b[0;34m=\u001b[0m\u001b[0;32mTrue\u001b[0m\u001b[0;34m)\u001b[0m\u001b[0;34m\u001b[0m\u001b[0;34m\u001b[0m\u001b[0m\n",
            "\u001b[0;31mKeyboardInterrupt\u001b[0m: Interrupted by user"
          ]
        }
      ]
    },
    {
      "cell_type": "markdown",
      "source": [
        "Problem 6:<p>This program creates an entire game of battleship by keeping track of how many ships have been hit and once all are sunk, ending the game."
      ],
      "metadata": {
        "id": "hjVHpS40NXQR"
      }
    },
    {
      "cell_type": "code",
      "source": [
        "# Copy/Paste Previous Code\n",
        "\n",
        "# Size of grid dimensions\n",
        "gridSize = 10\n",
        "# Create the grid\n",
        "grid = [[0 for i in range(gridSize)] for j in range(gridSize)]\n",
        "\n",
        "# Assign values of 1 for the location of the 3-block-long ship\n",
        "grid[7][2] = 1\n",
        "grid[7][3] = 1\n",
        "grid[7][4] = 1\n",
        "\n",
        "# Assign values of 1 for the location of the two 4-block-long ships\n",
        "grid[1][1] = 1\n",
        "grid[2][1] = 1\n",
        "grid[3][1] = 1\n",
        "grid[4][1] = 1\n",
        "grid[1][5] = 1\n",
        "grid[1][6] = 1\n",
        "grid[1][7] = 1\n",
        "grid[1][8] = 1\n",
        "\n",
        "# Assign values of 1 for the location of the 5-block-long ship\n",
        "grid[4][7] = 1\n",
        "grid[5][7] = 1\n",
        "grid[6][7] = 1\n",
        "grid[7][7] = 1\n",
        "grid[8][7] = 1\n",
        "\n",
        "# Find total number of 1's in the grid\n",
        "totOne = 16\n",
        "# Create while loop that runs as long as there is at least one \"1\" in the grid\n",
        "while totOne >= 1:\n",
        "\n",
        "    # Initialize row and column to be greater than 9\n",
        "    row = 10\n",
        "    col = 10\n",
        "    # Ask user to input row and col value, if it is not within acceptable range, asks again\n",
        "    # If the user hits the target, replace the one with an \"X\", and subtract the total 1's by one. If the user selects one they already hit, let them know\n",
        "    # Include spaces for clarity\n",
        "    while row > 9 or row < 0:\n",
        "        row = int(input('Please input a row number (between 0 and 9): '))\n",
        "    while col > 9 or col < 0:\n",
        "        col = int(input('Please input a column number (between 0 and 9): '))\n",
        "    if grid[row][col] == 1:\n",
        "        print('Hit!')\n",
        "        print(' ')\n",
        "        grid[row][col] = 'X'\n",
        "        totOne = totOne - 1\n",
        "    elif grid[row][col] == 'X':\n",
        "        print('You already hit here. Try another nearby coordinate.')\n",
        "        print(' ')\n",
        "    else:\n",
        "        print('Miss...')\n",
        "        print(' ')\n",
        "    print('There are',totOne,'coordinates of ship locations left to hit.')\n",
        "    print(' ')\n",
        "\n",
        "# Congratulate the user \n",
        "print('Congratulations! You sunk the battleships. Game over.')\n",
        "\n",
        "\n",
        "\n"
      ],
      "metadata": {
        "colab": {
          "base_uri": "https://localhost:8080/",
          "height": 389
        },
        "id": "NoXeLZaTNThN",
        "outputId": "9a64c857-219f-4c95-b76a-b2285389876f"
      },
      "execution_count": 9,
      "outputs": [
        {
          "output_type": "error",
          "ename": "KeyboardInterrupt",
          "evalue": "ignored",
          "traceback": [
            "\u001b[0;31m---------------------------------------------------------------------------\u001b[0m",
            "\u001b[0;31mKeyboardInterrupt\u001b[0m                         Traceback (most recent call last)",
            "\u001b[0;32m<ipython-input-9-a6b35b37bd86>\u001b[0m in \u001b[0;36m<cell line: 33>\u001b[0;34m()\u001b[0m\n\u001b[1;32m     40\u001b[0m     \u001b[0;31m# Include spaces for clarity\u001b[0m\u001b[0;34m\u001b[0m\u001b[0;34m\u001b[0m\u001b[0m\n\u001b[1;32m     41\u001b[0m     \u001b[0;32mwhile\u001b[0m \u001b[0mrow\u001b[0m \u001b[0;34m>\u001b[0m \u001b[0;36m9\u001b[0m \u001b[0;32mor\u001b[0m \u001b[0mrow\u001b[0m \u001b[0;34m<\u001b[0m \u001b[0;36m0\u001b[0m\u001b[0;34m:\u001b[0m\u001b[0;34m\u001b[0m\u001b[0;34m\u001b[0m\u001b[0m\n\u001b[0;32m---> 42\u001b[0;31m         \u001b[0mrow\u001b[0m \u001b[0;34m=\u001b[0m \u001b[0mint\u001b[0m\u001b[0;34m(\u001b[0m\u001b[0minput\u001b[0m\u001b[0;34m(\u001b[0m\u001b[0;34m'Please input a row number (between 0 and 9): '\u001b[0m\u001b[0;34m)\u001b[0m\u001b[0;34m)\u001b[0m\u001b[0;34m\u001b[0m\u001b[0;34m\u001b[0m\u001b[0m\n\u001b[0m\u001b[1;32m     43\u001b[0m     \u001b[0;32mwhile\u001b[0m \u001b[0mcol\u001b[0m \u001b[0;34m>\u001b[0m \u001b[0;36m9\u001b[0m \u001b[0;32mor\u001b[0m \u001b[0mcol\u001b[0m \u001b[0;34m<\u001b[0m \u001b[0;36m0\u001b[0m\u001b[0;34m:\u001b[0m\u001b[0;34m\u001b[0m\u001b[0;34m\u001b[0m\u001b[0m\n\u001b[1;32m     44\u001b[0m         \u001b[0mcol\u001b[0m \u001b[0;34m=\u001b[0m \u001b[0mint\u001b[0m\u001b[0;34m(\u001b[0m\u001b[0minput\u001b[0m\u001b[0;34m(\u001b[0m\u001b[0;34m'Please input a column number (between 0 and 9): '\u001b[0m\u001b[0;34m)\u001b[0m\u001b[0;34m)\u001b[0m\u001b[0;34m\u001b[0m\u001b[0;34m\u001b[0m\u001b[0m\n",
            "\u001b[0;32m/usr/local/lib/python3.9/dist-packages/ipykernel/kernelbase.py\u001b[0m in \u001b[0;36mraw_input\u001b[0;34m(self, prompt)\u001b[0m\n\u001b[1;32m    849\u001b[0m                 \u001b[0;34m\"raw_input was called, but this frontend does not support input requests.\"\u001b[0m\u001b[0;34m\u001b[0m\u001b[0;34m\u001b[0m\u001b[0m\n\u001b[1;32m    850\u001b[0m             )\n\u001b[0;32m--> 851\u001b[0;31m         return self._input_request(str(prompt),\n\u001b[0m\u001b[1;32m    852\u001b[0m             \u001b[0mself\u001b[0m\u001b[0;34m.\u001b[0m\u001b[0m_parent_ident\u001b[0m\u001b[0;34m,\u001b[0m\u001b[0;34m\u001b[0m\u001b[0;34m\u001b[0m\u001b[0m\n\u001b[1;32m    853\u001b[0m             \u001b[0mself\u001b[0m\u001b[0;34m.\u001b[0m\u001b[0m_parent_header\u001b[0m\u001b[0;34m,\u001b[0m\u001b[0;34m\u001b[0m\u001b[0;34m\u001b[0m\u001b[0m\n",
            "\u001b[0;32m/usr/local/lib/python3.9/dist-packages/ipykernel/kernelbase.py\u001b[0m in \u001b[0;36m_input_request\u001b[0;34m(self, prompt, ident, parent, password)\u001b[0m\n\u001b[1;32m    893\u001b[0m             \u001b[0;32mexcept\u001b[0m \u001b[0mKeyboardInterrupt\u001b[0m\u001b[0;34m:\u001b[0m\u001b[0;34m\u001b[0m\u001b[0;34m\u001b[0m\u001b[0m\n\u001b[1;32m    894\u001b[0m                 \u001b[0;31m# re-raise KeyboardInterrupt, to truncate traceback\u001b[0m\u001b[0;34m\u001b[0m\u001b[0;34m\u001b[0m\u001b[0m\n\u001b[0;32m--> 895\u001b[0;31m                 \u001b[0;32mraise\u001b[0m \u001b[0mKeyboardInterrupt\u001b[0m\u001b[0;34m(\u001b[0m\u001b[0;34m\"Interrupted by user\"\u001b[0m\u001b[0;34m)\u001b[0m \u001b[0;32mfrom\u001b[0m \u001b[0;32mNone\u001b[0m\u001b[0;34m\u001b[0m\u001b[0;34m\u001b[0m\u001b[0m\n\u001b[0m\u001b[1;32m    896\u001b[0m             \u001b[0;32mexcept\u001b[0m \u001b[0mException\u001b[0m \u001b[0;32mas\u001b[0m \u001b[0me\u001b[0m\u001b[0;34m:\u001b[0m\u001b[0;34m\u001b[0m\u001b[0;34m\u001b[0m\u001b[0m\n\u001b[1;32m    897\u001b[0m                 \u001b[0mself\u001b[0m\u001b[0;34m.\u001b[0m\u001b[0mlog\u001b[0m\u001b[0;34m.\u001b[0m\u001b[0mwarning\u001b[0m\u001b[0;34m(\u001b[0m\u001b[0;34m\"Invalid Message:\"\u001b[0m\u001b[0;34m,\u001b[0m \u001b[0mexc_info\u001b[0m\u001b[0;34m=\u001b[0m\u001b[0;32mTrue\u001b[0m\u001b[0;34m)\u001b[0m\u001b[0;34m\u001b[0m\u001b[0;34m\u001b[0m\u001b[0m\n",
            "\u001b[0;31mKeyboardInterrupt\u001b[0m: Interrupted by user"
          ]
        }
      ]
    },
    {
      "cell_type": "markdown",
      "source": [
        "Problem 7:<p>This program uses a dictionary of star wars characters and their allegiance to the sith or jedi to be able to display the total number of jedi and list characters in alphabetical order."
      ],
      "metadata": {
        "id": "fZw8G0NrtYGh"
      }
    },
    {
      "cell_type": "code",
      "source": [
        "# Create dictionary of Star Wars characters\n",
        "characters = {'Luke Skywalker':'Jedi',\n",
        "              'Darth Vader':'Sith',\n",
        "              'Yoda':'Jedi',\n",
        "              'Obi-Wan Kenobi':'Jedi',\n",
        "              'Emporor Palpatine':'Sith',\n",
        "              'Darth Maul':'Sith',\n",
        "              'Mace Windu':'Jedi'}\n",
        "\n",
        "# Initialze jedi counter\n",
        "counter = 0\n",
        "# Use for loop to locate all jedi and sort them alphabetically\n",
        "for character,allegiance in sorted(characters.items()):\n",
        "    if allegiance == 'Jedi':\n",
        "        print(character)\n",
        "        counter = counter + 1\n",
        "\n",
        "# Display total number of jedi found\n",
        "print('There were',counter,'jedi found.')"
      ],
      "metadata": {
        "colab": {
          "base_uri": "https://localhost:8080/"
        },
        "id": "saooxqAFtav0",
        "outputId": "53a1b8ed-b9b6-49e1-b293-895fc19bc617"
      },
      "execution_count": 8,
      "outputs": [
        {
          "output_type": "stream",
          "name": "stdout",
          "text": [
            "Luke Skywalker\n",
            "Mace Windu\n",
            "Obi-Wan Kenobi\n",
            "Yoda\n",
            "There were 4 jedi found.\n"
          ]
        }
      ]
    }
  ]
}